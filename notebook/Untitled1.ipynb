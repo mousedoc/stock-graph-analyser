{
 "cells": [
  {
   "cell_type": "code",
   "execution_count": 1,
   "metadata": {},
   "outputs": [
    {
     "name": "stdout",
     "output_type": "stream",
     "text": [
      "Result: 4999999950000000\n"
     ]
    }
   ],
   "source": [
    "from multiprocessing import Pool\n",
    "\n",
    "def f(x):\n",
    "    return x*x\n",
    "\n",
    "if __name__ == '__main__':\n",
    "    with Pool(5) as p:\n",
    "        print(p.map(f, [1, 2, 3]))\n"
   ]
  },
  {
   "cell_type": "code",
   "execution_count": 6,
   "metadata": {},
   "outputs": [
    {
     "name": "stdout",
     "output_type": "stream",
     "text": [
      "1\n"
     ]
    }
   ],
   "source": [
    "print(1)"
   ]
  },
  {
   "cell_type": "code",
   "execution_count": 8,
   "metadata": {},
   "outputs": [
    {
     "name": "stdout",
     "output_type": "stream",
     "text": [
      "12\n",
      "\n",
      "345\n",
      "6\n",
      "7\n",
      "8\n",
      "9\n",
      "10\n",
      "11\n",
      "12\n",
      "13\n",
      "\n",
      "\n",
      "submit complete\n",
      "1415\n",
      "16\n",
      "17\n",
      "\n",
      "end?\n",
      "--- elapsed time 0.0076580047607421875 seconds ---\n"
     ]
    }
   ],
   "source": [
    "import time\n",
    "import concurrent.futures\n",
    "from time import sleep\n",
    "from multiprocessing import Pool\n",
    "from concurrent.futures import ThreadPoolExecutor\n",
    "\n",
    "\n",
    "list = [1, 2, 3, 4, 5, 6, 7, 8, 9 , 10 ,11, 12 ,13 ,14, 15, 16, 17]\n",
    "\n",
    "def print_number(number):\n",
    "    print (number)\n",
    "\n",
    "def do_thread_crawl():\n",
    "    thread_list = []\n",
    "    with ThreadPoolExecutor(max_workers=8) as executor:\n",
    "        for number in list:\n",
    "            thread_list.append(executor.submit(print_number, number))\n",
    "            \n",
    "        print('submit complete')\n",
    "        \n",
    "        for execution in concurrent.futures.as_completed(thread_list):\n",
    "            execution.result()\n",
    "            \n",
    "        print('end?')\n",
    "        \n",
    "\n",
    "start_time = time.time()\n",
    "\n",
    "do_thread_crawl()\n",
    "\n",
    "print(\"--- elapsed time %s seconds ---\" % (time.time() - start_time))\n",
    "\n"
   ]
  },
  {
   "cell_type": "code",
   "execution_count": 14,
   "metadata": {},
   "outputs": [
    {
     "name": "stdout",
     "output_type": "stream",
     "text": [
      "Result: 4999999950000000\n"
     ]
    }
   ],
   "source": [
    "from threading import Thread\n",
    "\n",
    "def work(id, start, end, result):\n",
    "    total = 0\n",
    "    for i in range(start, end):\n",
    "        total += i\n",
    "    result.append(total)\n",
    "    return\n",
    "\n",
    "if __name__ == \"__main__\":\n",
    "    START, END = 0, 100000000\n",
    "    result = []\n",
    "    th1 = Thread(target=work, args=(1, START, END, result))\n",
    "    \n",
    "    th1.start()\n",
    "    th1.join()\n",
    "\n",
    "    print(f\"Result: {sum(result)}\")\n"
   ]
  },
  {
   "cell_type": "code",
   "execution_count": null,
   "metadata": {},
   "outputs": [],
   "source": []
  },
  {
   "cell_type": "code",
   "execution_count": null,
   "metadata": {},
   "outputs": [],
   "source": []
  }
 ],
 "metadata": {
  "kernelspec": {
   "display_name": "Python 3",
   "language": "python",
   "name": "python3"
  },
  "language_info": {
   "codemirror_mode": {
    "name": "ipython",
    "version": 3
   },
   "file_extension": ".py",
   "mimetype": "text/x-python",
   "name": "python",
   "nbconvert_exporter": "python",
   "pygments_lexer": "ipython3",
   "version": "3.8.5"
  }
 },
 "nbformat": 4,
 "nbformat_minor": 4
}
