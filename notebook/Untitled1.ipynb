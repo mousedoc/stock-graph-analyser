{
 "cells": [
  {
   "cell_type": "code",
   "execution_count": 1,
   "metadata": {},
   "outputs": [
    {
     "ename": "ModuleNotFoundError",
     "evalue": "No module named 'fake_useragent'",
     "output_type": "error",
     "traceback": [
      "\u001b[1;31m-----------------------------------------------------------------\u001b[0m",
      "\u001b[1;31mModuleNotFoundError\u001b[0m             Traceback (most recent call last)",
      "\u001b[1;32m<ipython-input-1-301c803bcdaf>\u001b[0m in \u001b[0;36m<module>\u001b[1;34m\u001b[0m\n\u001b[1;32m----> 1\u001b[1;33m \u001b[1;32mfrom\u001b[0m \u001b[0mfake_useragent\u001b[0m \u001b[1;32mimport\u001b[0m \u001b[0mUserAgent\u001b[0m\u001b[1;33m\u001b[0m\u001b[1;33m\u001b[0m\u001b[0m\n\u001b[0m\u001b[0;32m      2\u001b[0m \u001b[1;32mfrom\u001b[0m \u001b[0mtime\u001b[0m \u001b[1;32mimport\u001b[0m \u001b[0msleep\u001b[0m\u001b[1;33m\u001b[0m\u001b[1;33m\u001b[0m\u001b[0m\n\u001b[0;32m      3\u001b[0m \u001b[1;32mfrom\u001b[0m \u001b[0mmultiprocessing\u001b[0m \u001b[1;32mimport\u001b[0m \u001b[0mPool\u001b[0m\u001b[1;33m\u001b[0m\u001b[1;33m\u001b[0m\u001b[0m\n\u001b[0;32m      4\u001b[0m \u001b[1;32mfrom\u001b[0m \u001b[0mconcurrent\u001b[0m\u001b[1;33m.\u001b[0m\u001b[0mfutures\u001b[0m \u001b[1;32mimport\u001b[0m \u001b[0mThreadPoolExecutor\u001b[0m\u001b[1;33m\u001b[0m\u001b[1;33m\u001b[0m\u001b[0m\n\u001b[0;32m      5\u001b[0m \u001b[1;32mfrom\u001b[0m \u001b[0mbs4\u001b[0m \u001b[1;32mimport\u001b[0m \u001b[0mBeautifulSoup\u001b[0m\u001b[1;33m\u001b[0m\u001b[1;33m\u001b[0m\u001b[0m\n",
      "\u001b[1;31mModuleNotFoundError\u001b[0m: No module named 'fake_useragent'"
     ]
    }
   ],
   "source": [
    "from fake_useragent import UserAgent\n",
    "from time import sleep\n",
    "from multiprocessing import Pool\n",
    "from concurrent.futures import ThreadPoolExecutor\n",
    "from bs4 import BeautifulSoup\n",
    "from selenium import webdriver\n",
    "import concurrent.futures\n",
    "import urllib.request  \n",
    "import requests\n",
    "import time\n",
    "\n",
    "    \n",
    "urls = [\"https://namu.wiki/w/%EB%B6%84%EB%A5%98:%EC%A0%95%EC%88%98\", \n",
    "        'https://namu.wiki/w/%EB%B6%84%EB%A5%98:%EC%88%98', \n",
    "        'https://namu.wiki/w/%EB%B6%84%EB%A5%98:%ED%95%9C%EA%B5%AD%20%EC%95%84%EC%9D%B4%EB%8F%8C', \n",
    "        'https://namu.wiki/w/%EB%B6%84%EB%A5%98:%EA%B1%B8%EA%B7%B8%EB%A3%B9']\n",
    "\n",
    "    \n",
    "limit = 20\n",
    "\n",
    "def get_sublist_href(url: str):\n",
    "    namu_link = []\n",
    "    request = requests.get(url)\n",
    "    sleep(1)\n",
    "    \n",
    "    parsed_html = BeautifulSoup(request.text, 'html.parser')\n",
    "    a_element_tags = parsed_html.find_all('div', attrs={'class' : 'test'})\n",
    "    for tag in a_element_tags:\n",
    "        for link in tag.find_all('a'):\n",
    "            namu_link.append(url + link['href'])\n",
    "    \n",
    "    namu_link = namu_link[:limit]\n",
    "    print('Number of site: ', len(namu_link))\n",
    "    return namu_link\n",
    "\n",
    "def do_html_crawl(url: str):\n",
    "    request = requests.get(url)\n",
    "    sleep(1)\n",
    "    parsed_html = BeautifulSoup(request.text, 'html.parser')\n",
    "    return parsed_html\n",
    "\n",
    "def do_process_with_thread_crawl(url: str):\n",
    "    do_thread_crawl(get_sublist_href(url))\n",
    "    \n",
    "def do_thread_crawl(urls: list):\n",
    "    thread_list = []\n",
    "    with ThreadPoolExecutor(max_workers=8) as executor:\n",
    "        for url in urls:\n",
    "            thread_list.append(executor.submit(do_html_crawl, url))\n",
    "        for execution in concurrent.futures.as_completed(thread_list):\n",
    "            execution.result()\n",
    "\n",
    "\n",
    "if __name__ == \"__main__\":\n",
    "    start_time = time.time()\n",
    "\n",
    "    with Pool(processes=4) as pool:  \n",
    "        pool.map(do_process_with_thread_crawl, urls)\n",
    "        print(\"--- elapsed time %s seconds ---\" % (time.time() - start_time))\n"
   ]
  },
  {
   "cell_type": "code",
   "execution_count": null,
   "metadata": {},
   "outputs": [],
   "source": []
  }
 ],
 "metadata": {
  "kernelspec": {
   "display_name": "Python 3",
   "language": "python",
   "name": "python3"
  },
  "language_info": {
   "codemirror_mode": {
    "name": "ipython",
    "version": 3
   },
   "file_extension": ".py",
   "mimetype": "text/x-python",
   "name": "python",
   "nbconvert_exporter": "python",
   "pygments_lexer": "ipython3",
   "version": "3.7.7"
  }
 },
 "nbformat": 4,
 "nbformat_minor": 4
}
