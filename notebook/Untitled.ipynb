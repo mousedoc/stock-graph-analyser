{
 "cells": [
  {
   "cell_type": "code",
   "execution_count": 4,
   "metadata": {},
   "outputs": [
    {
     "name": "stdout",
     "output_type": "stream",
     "text": [
      "[1, 2, 3, 4, 5, 6]\n"
     ]
    }
   ],
   "source": [
    "\n",
    "\n",
    "\n",
    "a_list = [1, 2, 3]\n",
    "b_list = [4,5,6]\n",
    "\n",
    "temp = list()\n",
    "temp.extend(a_list)\n",
    "temp.extend(b_list)\n",
    "\n",
    "print(temp)"
   ]
  },
  {
   "cell_type": "code",
   "execution_count": 6,
   "metadata": {},
   "outputs": [
    {
     "name": "stdout",
     "output_type": "stream",
     "text": [
      "http://finance.naver.com/item/sise_day.nhn?code=1234\n",
      "http://finance.naver.com/item/sise_day.nhn?code={code}\n"
     ]
    }
   ],
   "source": [
    "base_url = 'http://finance.naver.com/item/sise_day.nhn?code={code}'\n",
    "\n",
    "print(base_url.format(code='1234'))\n",
    "\n",
    "print(base_url)"
   ]
  },
  {
   "cell_type": "code",
   "execution_count": 7,
   "metadata": {},
   "outputs": [
    {
     "data": {
      "text/plain": [
       "'001234'"
      ]
     },
     "execution_count": 7,
     "metadata": {},
     "output_type": "execute_result"
    }
   ],
   "source": [
    "format(1234, '06')"
   ]
  },
  {
   "cell_type": "code",
   "execution_count": 13,
   "metadata": {},
   "outputs": [
    {
     "name": "stdout",
     "output_type": "stream",
     "text": [
      "    Name  Age\n",
      "0    Kim   23\n",
      "1    Lee   12\n",
      "2  Jeong   28\n",
      "\n",
      "\n",
      "    Name  Age\n",
      "1    Lee   12\n",
      "2  Jeong   28\n",
      "\n",
      "\n",
      "    Name  Age\n",
      "0    Kim   23\n",
      "2  Jeong   28\n"
     ]
    }
   ],
   "source": [
    "import pandas as pd\n",
    "\n",
    "origin = pd.DataFrame([['Kim', 23], ['Lee', 12],  ['Jeong', 28]], columns = ['Name', 'Age'])\n",
    "sorted_origin = origin.sort_values(by=['Age'], ascending=True)\n",
    "\n",
    "print (origin)\n",
    "\n",
    "print()\n",
    "print()\n",
    "tailed = origin.tail(2)\n",
    "sorted_tailed = sorted_origin.tail(2)\n",
    "\n",
    "print (tailed)\n",
    "\n",
    "print()\n",
    "print()\n",
    "\n",
    "\n",
    "print (sorted_tailed)\n"
   ]
  },
  {
   "cell_type": "code",
   "execution_count": null,
   "metadata": {},
   "outputs": [],
   "source": []
  },
  {
   "cell_type": "code",
   "execution_count": null,
   "metadata": {},
   "outputs": [],
   "source": []
  },
  {
   "cell_type": "code",
   "execution_count": null,
   "metadata": {},
   "outputs": [],
   "source": []
  },
  {
   "cell_type": "code",
   "execution_count": null,
   "metadata": {},
   "outputs": [],
   "source": []
  },
  {
   "cell_type": "code",
   "execution_count": null,
   "metadata": {},
   "outputs": [],
   "source": []
  }
 ],
 "metadata": {
  "kernelspec": {
   "display_name": "Python 3",
   "language": "python",
   "name": "python3"
  },
  "language_info": {
   "codemirror_mode": {
    "name": "ipython",
    "version": 3
   },
   "file_extension": ".py",
   "mimetype": "text/x-python",
   "name": "python",
   "nbconvert_exporter": "python",
   "pygments_lexer": "ipython3",
   "version": "3.7.7"
  }
 },
 "nbformat": 4,
 "nbformat_minor": 4
}
